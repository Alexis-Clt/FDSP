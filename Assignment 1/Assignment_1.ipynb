{
 "cells": [
  {
   "cell_type": "markdown",
   "metadata": {},
   "source": [
    "# Standard normal CDF\n",
    "Write a program in Python that asks a user for a number `x`, and then outputs the value of the cumulative distribution function of the standard normal distribution at `x`.\n",
    "## Example\n",
    "\n",
    "`Enter x: 0.3\n",
    "The value of the standard normal CDF at 0.3 is 0.6179114221889526`\n",
    "\n",
    "**Hint:** You'll want to use the `input(...)` and `print(...)` functions for this. Recall that `input(...)` returns a string, which must be converted to a floating point number using `float(...)`. If we do `from scipy.stats import norm`, then the cumulative distribution function of the standard normal distribution can be accessed as `norm.cdf(...)`."
   ]
  },
  {
   "cell_type": "code",
   "execution_count": 1,
   "metadata": {},
   "outputs": [
    {
     "name": "stdout",
     "output_type": "stream",
     "text": [
      "The value of the standard normal CDF at 0.3 is 0.6179114221889526\n"
     ]
    }
   ],
   "source": [
    "from scipy.stats import norm\n",
    "from math import exp, pi\n",
    "\n",
    "def Hastings_norm_cdf(x):\n",
    "    N_prime = (1 / ((2 * pi) ** (1 / 2))) * exp(-0.5 * x**2)\n",
    "    gamma = 0.2316419\n",
    "    a1 = 0.319381530\n",
    "    a2 = -0.35653782\n",
    "    a3 = 1.781477937\n",
    "    a4 = -1.821255978\n",
    "    a5 = 1.330274429\n",
    "    k = 1 / (1 + (gamma * x))\n",
    "\n",
    "    def N(x):\n",
    "        return 1 - N_prime * (\n",
    "            (a1 * k) + (a2 * k**2) + (a3 * k**3) + (a4 * k**4) + (a5 * k**5)\n",
    "        )\n",
    "\n",
    "    if x >= 0:\n",
    "        return N(x)\n",
    "    else:\n",
    "        return 1 - N(-x)\n",
    "\n",
    "# x = float(input())\n",
    "x = 0.3\n",
    "print(f\"The value of the standard normal CDF at {x} is {norm.cdf(x)}\")"
   ]
  },
  {
   "cell_type": "markdown",
   "metadata": {},
   "source": [
    "# Black/Scholes formula in Python\n",
    "The Black/Scholes price of a European call option expiring at time $T$ with strike price $K$ is\n",
    "$$\n",
    "C(S,t)=SN(d_1)−Ke^{−r(T−t)}N(d_2)\n",
    "$$\n",
    "where $S$ is the current price of the underlying asset, $t$ the current time and $r$ the continuously compounded riskfree interest rate. $N(d)$ denotes the cumulative distribution function of the standard normal distribution, and\n",
    "$$\n",
    "d_1 = \\frac{\\ln\\frac{S}K+(r+\\frac12\\sigma^2)(T−t)}{\\sigma\\sqrt{T-t}}\n",
    "$$\n",
    "$$\n",
    "d_2 = d_1−\\sigma\\sqrt{T-t}\n",
    "$$\n",
    "where the $\\sigma$ denotes the volatility of the underlying asset.\n",
    "\n",
    "Using the scaffold provided, write a Python program which prompts the user for the required inputs, and prints the Black/Scholes price of the option.\n",
    "\n",
    "## Example\n",
    "\n",
    "`Enter the underlying stock price: 100\n",
    "Enter the strike price: 100\n",
    "Enter the volatility: 0.3\n",
    "Enter continuously compounded interest rate: 0.02\n",
    "Enter the time to maturity: 2.5\n",
    "The call option price is: 20.82854108910454`"
   ]
  },
  {
   "cell_type": "code",
   "execution_count": 2,
   "metadata": {},
   "outputs": [
    {
     "name": "stdout",
     "output_type": "stream",
     "text": [
      "The call option price is: 20.82854108910454\n"
     ]
    }
   ],
   "source": [
    "import numpy as np\n",
    "from scipy.stats import norm\n",
    "\n",
    "# stock = float(input(\"Enter the underlying stock price: \"))\n",
    "# strike = float(input(\"Enter the strike price: \"))\n",
    "# sigma = float(input(\"Enter the volatility: \"))\n",
    "# interest = float(input(\"Enter continuously compounded interest rate: \"))\n",
    "# maturity = float(input(\"Enter the time to maturity: \"))\n",
    "stock, strike, sigma, interest, maturity = 100, 100, 0.3, 0.02, 2.5\n",
    "\n",
    "\n",
    "def D1(S, K, T, t, r, q, sigma):\n",
    "    return (np.log(S / K) + (r - q + sigma**2 / 2) * (T - t)) / (sigma * np.sqrt(T - t))\n",
    "\n",
    "\n",
    "def D2(S, K, T, t, r, q, sigma):\n",
    "    return D1(S, K, T, t, r, q, sigma) - sigma * np.sqrt(T - t)\n",
    "\n",
    "\n",
    "def BlackScholesEuropean(type, S, K, T, t, r, q, sigma):\n",
    "    try:\n",
    "        if type == \"c\":\n",
    "            price = S * np.exp(-q * (T - t)) * norm.cdf(\n",
    "                D1(S, K, T, t, r, q, sigma), 0, 1\n",
    "            ) - K * np.exp(-r * (T - t)) * norm.cdf(D2(S, K, T, t, r, q, sigma), 0, 1)\n",
    "        elif type == \"p\":\n",
    "            price = K * np.exp(-r * (T - t)) * norm.cdf(\n",
    "                -D2(S, K, T, t, r, q, sigma), 0, 1\n",
    "            ) - S * norm.cdf(-D1(S, K, T, t, r, q, sigma), 0, 1)\n",
    "        return price\n",
    "    except:\n",
    "        print(\"Invalid parameters.\")\n",
    "\n",
    "\n",
    "BlackScholes = BlackScholesEuropean(\n",
    "    type=\"c\", S=stock, K=strike, T=maturity, t=0, r=interest, q=0, sigma=sigma\n",
    ")\n",
    "\n",
    "print(\"The call option price is: \" + str(BlackScholes))"
   ]
  },
  {
   "cell_type": "markdown",
   "metadata": {},
   "source": [
    "# Black Scholes formula as a Python function\n",
    "As in the previous task, consider the Black/Scholes price of a European call option expiring at time $T$ with strike price $K$. Similarly, the price of a European put option expiring at time $T$ with strike price $K$ is\n",
    "$$\n",
    "P(S,t)=Ke^{−r(T−t)}N(−d_2)−SN(−d_1)\n",
    "$$\n",
    "Using the scaffold provided, write a Python function which calculates the Black/Scholes price of the option, where the function takes six arguments (in this order): $S$, $K$, $\\sigma$, $r$, $T$ and a 1 for a call or -1 for a put.\n",
    "\n",
    "## Example:\n",
    "\n",
    "`Enter the underlying stock price: 100\n",
    "Enter the strike price: 100\n",
    "Enter the volatility: 0.3\n",
    "Enter continuously compounded interest rate: 0.05\n",
    "Enter the time to maturity: 2\n",
    "Enter 1 for call or -1 for put option: 1\n",
    "The option price is: 21.193735255280203`\n",
    "\n",
    "## Another example (a put option):\n",
    "\n",
    "`Enter the underlying stock price: 100\n",
    "Enter the strike price: 100\n",
    "Enter the volatility: 0.3\n",
    "Enter continuously compounded interest rate: 0.05\n",
    "Enter the time to maturity: 2\n",
    "Enter 1 for call or -1 for put option: -1\n",
    "The option price is: 11.677477058876157`"
   ]
  },
  {
   "cell_type": "code",
   "execution_count": 3,
   "metadata": {},
   "outputs": [],
   "source": [
    "def BlackScholes(S, K, sgm, r, T, callput):\n",
    "    try:\n",
    "        if callput == 1:\n",
    "            price = S * norm.cdf(D1(S, K, T, 0, r, 0, sgm), 0, 1) - K * np.exp(\n",
    "                -r * T\n",
    "            ) * norm.cdf(D2(S, K, T, 0, r, 0, sgm), 0, 1)\n",
    "        elif callput == -1:\n",
    "            price = K * np.exp(-r * T) * norm.cdf(\n",
    "                -D2(S, K, T, 0, r, 0, sgm), 0, 1\n",
    "            ) - S * norm.cdf(-D1(S, K, T, 0, r, 0, sgm), 0, 1)\n",
    "        return price\n",
    "    except:\n",
    "        print(\"Invalid parameters.\")\n",
    "    pass"
   ]
  },
  {
   "cell_type": "markdown",
   "metadata": {},
   "source": [
    "# Implied volatility\n",
    "To calculate the price of a European option, we need to know whether it is a call or a put, the strike $K$, and its time to expiry - these are properties specified in the option contract. Furthermore, we need to know the current price of the underlying asset $(S)$ and the interest rate $r$ - these are things which can arguably be observed in the market. Lastly, we need the volatility $\\sigma$ - this is not directly observable in the market. Although it can be statistically estimated, when prices for actively traded options are available in the market, the preferred method to obtain sigma is to **imply** it from those market prices. This is the <B><I>implied volatility</I></B>, i.e. the $\\sigma$ which needs to be inserted into the Black/Scholes formula so that, in combination with the observed values for the other input variables, it returns the observed market price of the option.\n",
    "\n",
    "Implied volatility cannot be obtained by algebraically solving the Black/Scholes formula for volatility - this is not analytically possible. Therefore, Black/Scholes implied volatility must be obtained numerically using a *root search.* The SciPy package provides a root search routine for Python, which for a user-defined function finds the function argument which results in a zero function value. For example, consider the function\n",
    "$$\n",
    "f(x)=ax+b\n",
    "$$\n",
    "We define this as a Python function and determine its root (for a specific choice of $a$ and $b$) by calling the SciPy function `root_scalar`:"
   ]
  },
  {
   "cell_type": "code",
   "execution_count": 4,
   "metadata": {},
   "outputs": [
    {
     "name": "stdout",
     "output_type": "stream",
     "text": [
      "2.5\n"
     ]
    }
   ],
   "source": [
    "from scipy import optimize\n",
    "\n",
    "\n",
    "def f(x, a, b):\n",
    "    return a * x + b\n",
    "\n",
    "\n",
    "sol = optimize.root_scalar(f, bracket=[-1000, 1000], args=(2, -5))\n",
    "print(sol.root)"
   ]
  },
  {
   "cell_type": "markdown",
   "metadata": {},
   "source": [
    "Note that as well as $f$, two named arguments are passed to `root_scalar`: `bracket` specifies a lower and upper bound in the search for the root, and `args` specifies the other arguments ($a$ and $b$) of $f$. Feel free to run and play with the above code (for example by modifying `args`, or even the function $f$).\n",
    "\n",
    "## Task\n",
    "Using the scaffold provided, write a Python function which calculates the Black/Scholes implied volatility of an option, where the function takes six arguments (in this order): $S$, $K$, $r$, $T$, a 1 for a call or -1 for a put, and the option price. Note that you will need to define additional functions in order to conduct the root search.\n",
    "\n",
    "### Example output\n",
    "\n",
    "`Enter the underlying stock price: 100 \n",
    "Enter the strike price: 100 \n",
    "Enter continuously compounded interest rate: 0.05 \n",
    "Enter the time to maturity: 2 \n",
    "Enter 1 for call or -1 for put option: 1 \n",
    "Enter the option price: 22.7251160722058 \n",
    "The implied volatility is: 0.3300000000000001`"
   ]
  },
  {
   "cell_type": "code",
   "execution_count": 5,
   "metadata": {},
   "outputs": [
    {
     "name": "stdout",
     "output_type": "stream",
     "text": [
      "The implied volatility is: \n",
      "0.33000000000000024\n"
     ]
    }
   ],
   "source": [
    "def BlackScholesImpVol(S, K, r, T, callput, price):\n",
    "    def func(vol, S, K, r, T, callput, price):\n",
    "        return BlackScholes(S, K, vol, r, T, callput) - price\n",
    "\n",
    "    return optimize.root_scalar(\n",
    "        func, bracket=[0.001, 10], args=(S, K, r, T, callput, price), method=\"brentq\"\n",
    "    ).root\n",
    "\n",
    "\n",
    "# stock = float(input(\"Enter the underlying stock price: \"))\n",
    "# strike = float(input(\"Enter the strike price: \"))\n",
    "# interest = float(input(\"Enter continuously compounded interest rate: \"))\n",
    "# maturity = float(input(\"Enter the time to maturity: \"))\n",
    "# callput = int(input(\"Enter 1 for call or -1 for put option: \"))\n",
    "# price = float(input(\"Enter the option price: \"))\n",
    "stock, strike, interest, maturity, callput, price = 100, 100, 0.05, 2, 1, 22.7251160722058\n",
    "\n",
    "print(\"The implied volatility is: \")\n",
    "print(BlackScholesImpVol(stock, strike, interest, maturity, callput, price))"
   ]
  },
  {
   "cell_type": "markdown",
   "metadata": {},
   "source": [
    "# Plotting an implied volatility smile from option price data\n",
    "Consider the data in the file `TSLA.xlsx`, which contains data on options on Tesla, Inc. (TSLA) traded on CBOE on 8 March 2023. The price of TSLA on that day was USD 182.00. The options are American style, but TSLA isn't paying any dividends, so call options can be priced as if they were European.\n",
    "\n",
    "## Task\n",
    "Using the middle of the bid/ask spread, calculate the Black/Scholes implied volatilities of all call options expiring on 15 March 2024, which had a nonzero trading volume on CBOE on 8 March 2023. You may assume that the riskfree rate for this maturity was 5.751038% continuously compounded, using an ACT/365 daycount convention (i.e., the time to maturity in years is given by the number of days between 8 March 2023 and 15 March 2024, divided by 365). Plot these implied volatilities.  "
   ]
  },
  {
   "cell_type": "code",
   "execution_count": 6,
   "metadata": {},
   "outputs": [
    {
     "data": {
      "image/png": "[encoded data removed]",
      "text/plain": [
       "<Figure size 640x480 with 1 Axes>"
      ]
     },
     "metadata": {},
     "output_type": "display_data"
    }
   ],
   "source": [
    "import pandas as pd\n",
    "import datetime\n",
    "import matplotlib.pyplot as plt\n",
    "\n",
    "data = pd.read_excel(\"TSLA.xlsx\")\n",
    "data[\"Expiration Date\"] = pd.to_datetime(data[\"Expiration Date\"], format=\"mixed\")\n",
    "\n",
    "data = data[data[\"Volume\"] != 0]\n",
    "data = data[data[\"Expiration Date\"] == \"2024-03-15\"].copy()\n",
    "data[\"Mid\"] = (data[\"Bid\"] + data[\"Ask\"]) / 2\n",
    "\n",
    "T = (datetime.date(2024, 3, 15) - datetime.date(2023, 3, 8)).days / 365\n",
    "\n",
    "r = 5.751038 / 100\n",
    "\n",
    "data[\"CVol\"] = data.apply(\n",
    "    lambda row: BlackScholesImpVol(182, row[\"Strike\"], r, T, 1, row[\"Mid\"]), axis=1\n",
    ")\n",
    "\n",
    "plt.plot(data[\"Strike\"], data[\"CVol\"], \".\")\n",
    "plt.show()"
   ]
  },
  {
   "cell_type": "markdown",
   "metadata": {},
   "source": [
    "# Binomial option pricing model - American put option\n",
    "Using the scaffold provided, write a Python function `BinomialAmericanPut()` which calculates the price of an American put option in the binomial model. The function should take six arguments (in this order): $S$, $K$, $u$, $d$, $R$, $n$, where $S$ is the initial stock price, $K$ is the strike price, $u$ is the \"up\" factor, $d$ is the \"down\" factor, $R$ is the accummulation factor, and $n$ is the number of time steps until expiry of the option. The price must be calculated by iterating step by step backwards through the binomial lattice, as illustrated in the spreadsheet `Binomial.xlsx` created in the lecture (and available on the Canvas site).\n",
    "\n",
    "## Example:\n",
    "This example corresponds to the one given on Slide 42 of Lecture 1b:\n",
    "\n",
    "`Enter the underlying stock price: 120\n",
    "Enter the strike price: 95\n",
    "Enter the up factor: 1.2\n",
    "Enter the down factor: 0.8\n",
    "Enter the accumulation factor: 1.1\n",
    "Enter the number of time steps: 3\n",
    "The option price is: 1.1401202103681396`"
   ]
  },
  {
   "cell_type": "code",
   "execution_count": 7,
   "metadata": {},
   "outputs": [
    {
     "name": "stdout",
     "output_type": "stream",
     "text": [
      "The option price is: \n",
      "1.1401202103681385\n"
     ]
    }
   ],
   "source": [
    "def BinomialAmericanPut(S, K, u, d, R, N):\n",
    "    p = (R - d) / (u - d)\n",
    "    tree = np.zeros((N + 1, N + 1))\n",
    "    for i in range(N + 1):\n",
    "        tree[i, N] += max(0, K - (S * (u**i) * (d ** (N - i))))\n",
    "    for i in reversed(range(N)):\n",
    "        for j in range(i + 1):\n",
    "            tree[j, i] = max(\n",
    "                max(0, K - (S * (u**j) * (d ** (i - j)))),\n",
    "                (p * tree[j + 1, i + 1] + (1 - p) * tree[j, i + 1]) / R,\n",
    "            )\n",
    "    return tree[0, 0]\n",
    "\n",
    "\n",
    "# stock = float(input('Enter the underlying stock price: '))\n",
    "# strike = float(input('Enter the strike price: '))\n",
    "# u = float(input('Enter the up factor: '))\n",
    "# d = float(input('Enter the down factor: '))\n",
    "# R = float(input('Enter the accumulation factor: '))\n",
    "# N = int(input('Enter the number of time steps: '))\n",
    "stock, strike, u, d, R, N = 120, 95, 1.2, 0.8, 1.1, 3\n",
    "print(\"The option price is: \")\n",
    "print(BinomialAmericanPut(stock, strike, u, d, R, N))"
   ]
  },
  {
   "cell_type": "code",
   "execution_count": 8,
   "metadata": {},
   "outputs": [
    {
     "data": {
      "text/plain": [
       "array([1, 2, 3])"
      ]
     },
     "execution_count": 8,
     "metadata": {},
     "output_type": "execute_result"
    }
   ],
   "source": [
    "tuple([(0, 1) for i in range(24)] + [(-1e2, 1e2)])\n",
    "\n",
    "import numpy as np\n",
    "np.abs([1, -2, 3])"
   ]
  }
 ],
 "metadata": {
  "kernelspec": {
   "display_name": "Python 3",
   "language": "python",
   "name": "python3"
  },
  "language_info": {
   "codemirror_mode": {
    "name": "ipython",
    "version": 3
   },
   "file_extension": ".py",
   "mimetype": "text/x-python",
   "name": "python",
   "nbconvert_exporter": "python",
   "pygments_lexer": "ipython3",
   "version": "3.12.5"
  }
 },
 "nbformat": 4,
 "nbformat_minor": 2
}
